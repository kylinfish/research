{
 "metadata": {
  "name": "",
  "signature": "sha256:b222650f080ac32679782817f060ae3945c1b13d219510a85b4fd3a74a239c46"
 },
 "nbformat": 3,
 "nbformat_minor": 0,
 "worksheets": []
}