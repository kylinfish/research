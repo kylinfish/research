{
 "metadata": {
  "name": "",
  "signature": "sha256:b5c394d696ad8887aaa631ce106db9e0f46adf85140531cba60bc54bae66b9da"
 },
 "nbformat": 3,
 "nbformat_minor": 0,
 "worksheets": [
  {
   "cells": [
    {
     "cell_type": "code",
     "collapsed": false,
     "input": [
      "import cv2\n",
      "import numpy as np\n",
      "# histr = cv2.calcHist([img],[i],None,[256],[0,256])\n",
      "def compareCorrelation(p1,p2):\n",
      "    test1 = cv2.imread(p1)\n",
      "    test2 = cv2.imread(p2)\n",
      "    \"HSV\"\n",
      "#     test1hsv = cv2.cvtColor(test1,cv2.COLOR_BGR2HSV)\n",
      "#     test2hsv = cv2.cvtColor(test2,cv2.COLOR_BGR2HSV)\n",
      "    \"calHist\"\n",
      "    test1hsv = cv2.calcHist([test1],[0],None,[256],[0,256])\n",
      "    test2hsv = cv2.calcHist([test2],[0],None,[256],[0,256])\n",
      "#     test1hsv = cv2.calcHist(test1hsv,[0,1],None,[0,256],[0,255])\n",
      "#     test2hsv = cv2.calcHist(test2hsv,[0,1],None,[0,256],[0,255])\n",
      "    print  cv2.compareHist(test1hsv,test2hsv,4)\n",
      "\n",
      "compareCorrelation(\"/Users/viplab/Desktop/2.jpg\",\"/Users/viplab/Desktop/6.jpg\")\n",
      "\n"
     ],
     "language": "python",
     "metadata": {},
     "outputs": [
      {
       "ename": "error",
       "evalue": "/tmp/opencv-qpohHT/opencv-2.4.9/modules/imgproc/src/histogram.cpp:2038: error: (-5) Unknown comparison method in function compareHist\n",
       "output_type": "pyerr",
       "traceback": [
        "\u001b[0;31m---------------------------------------------------------------------------\u001b[0m\n\u001b[0;31merror\u001b[0m                                     Traceback (most recent call last)",
        "\u001b[0;32m<ipython-input-11-74a82fcab5f2>\u001b[0m in \u001b[0;36m<module>\u001b[0;34m()\u001b[0m\n\u001b[1;32m     15\u001b[0m     \u001b[0;32mprint\u001b[0m  \u001b[0mcv2\u001b[0m\u001b[0;34m.\u001b[0m\u001b[0mcompareHist\u001b[0m\u001b[0;34m(\u001b[0m\u001b[0mtest1hsv\u001b[0m\u001b[0;34m,\u001b[0m\u001b[0mtest2hsv\u001b[0m\u001b[0;34m,\u001b[0m\u001b[0;36m4\u001b[0m\u001b[0;34m)\u001b[0m\u001b[0;34m\u001b[0m\u001b[0m\n\u001b[1;32m     16\u001b[0m \u001b[0;34m\u001b[0m\u001b[0m\n\u001b[0;32m---> 17\u001b[0;31m \u001b[0mcompareCorrelation\u001b[0m\u001b[0;34m(\u001b[0m\u001b[0;34m\"/Users/viplab/Desktop/2.jpg\"\u001b[0m\u001b[0;34m,\u001b[0m\u001b[0;34m\"/Users/viplab/Desktop/6.jpg\"\u001b[0m\u001b[0;34m)\u001b[0m\u001b[0;34m\u001b[0m\u001b[0m\n\u001b[0m\u001b[1;32m     18\u001b[0m \u001b[0;34m\u001b[0m\u001b[0m\n",
        "\u001b[0;32m<ipython-input-11-74a82fcab5f2>\u001b[0m in \u001b[0;36mcompareCorrelation\u001b[0;34m(p1, p2)\u001b[0m\n\u001b[1;32m     13\u001b[0m \u001b[0;31m#     test1hsv = cv2.calcHist(test1hsv,[0,1],None,[0,256],[0,255])\u001b[0m\u001b[0;34m\u001b[0m\u001b[0;34m\u001b[0m\u001b[0m\n\u001b[1;32m     14\u001b[0m \u001b[0;31m#     test2hsv = cv2.calcHist(test2hsv,[0,1],None,[0,256],[0,255])\u001b[0m\u001b[0;34m\u001b[0m\u001b[0;34m\u001b[0m\u001b[0m\n\u001b[0;32m---> 15\u001b[0;31m     \u001b[0;32mprint\u001b[0m  \u001b[0mcv2\u001b[0m\u001b[0;34m.\u001b[0m\u001b[0mcompareHist\u001b[0m\u001b[0;34m(\u001b[0m\u001b[0mtest1hsv\u001b[0m\u001b[0;34m,\u001b[0m\u001b[0mtest2hsv\u001b[0m\u001b[0;34m,\u001b[0m\u001b[0;36m4\u001b[0m\u001b[0;34m)\u001b[0m\u001b[0;34m\u001b[0m\u001b[0m\n\u001b[0m\u001b[1;32m     16\u001b[0m \u001b[0;34m\u001b[0m\u001b[0m\n\u001b[1;32m     17\u001b[0m \u001b[0mcompareCorrelation\u001b[0m\u001b[0;34m(\u001b[0m\u001b[0;34m\"/Users/viplab/Desktop/2.jpg\"\u001b[0m\u001b[0;34m,\u001b[0m\u001b[0;34m\"/Users/viplab/Desktop/6.jpg\"\u001b[0m\u001b[0;34m)\u001b[0m\u001b[0;34m\u001b[0m\u001b[0m\n",
        "\u001b[0;31merror\u001b[0m: /tmp/opencv-qpohHT/opencv-2.4.9/modules/imgproc/src/histogram.cpp:2038: error: (-5) Unknown comparison method in function compareHist\n"
       ]
      }
     ],
     "prompt_number": 11
    }
   ],
   "metadata": {}
  }
 ]
}