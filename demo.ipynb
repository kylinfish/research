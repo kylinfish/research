{
 "metadata": {
  "name": "",
  "signature": "sha256:1f4b8ad21460c1ac77703d689e533c737a7d3620a4e73c2ea1e8c09f1b513da6"
 },
 "nbformat": 3,
 "nbformat_minor": 0,
 "worksheets": [
  {
   "cells": [
    {
     "cell_type": "code",
     "collapsed": false,
     "input": [
      "import preprocess as pp\n",
      "#extract feature and store to txt\n",
      "class_label =\"butterfly|brain|car|cup|paino\"\n",
      "pp.Make_feature_set(\"data/feature.txt\",class_label)"
     ],
     "language": "python",
     "metadata": {},
     "outputs": [
      {
       "output_type": "stream",
       "stream": "stdout",
       "text": [
        "end process of feature collecting \n"
       ]
      }
     ],
     "prompt_number": 1
    },
    {
     "cell_type": "code",
     "collapsed": false,
     "input": [
      "import numpy as np\n",
      "import dataset as dataset\n",
      "flower = dataset.read_data(\"data/feature.txt\")\n",
      "iris_X = flower.data\n",
      "iris_y = flower.target #ground truth\n",
      "np.unique(iris_y) \n",
      "\n",
      "#class label 0,1,2 (setosa', 'versicolor', 'virginica')"
     ],
     "language": "python",
     "metadata": {},
     "outputs": [
      {
       "metadata": {},
       "output_type": "pyout",
       "prompt_number": 4,
       "text": [
        "array([0, 1, 2, 3, 4])"
       ]
      }
     ],
     "prompt_number": 4
    }
   ],
   "metadata": {}
  }
 ]
}