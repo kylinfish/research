{
 "metadata": {
  "name": "",
  "signature": "sha256:599e4b8ef3b2361565917334ea40f412d65bf8e2796cefd488773e9fd1865502"
 },
 "nbformat": 3,
 "nbformat_minor": 0,
 "worksheets": [
  {
   "cells": [
    {
     "cell_type": "code",
     "collapsed": false,
     "input": [
      "import dataset as dataset\n",
      "\n",
      "flower = dataset.read_data(\"feature.txt\")\n"
     ],
     "language": "python",
     "metadata": {},
     "outputs": [],
     "prompt_number": 16
    },
    {
     "cell_type": "code",
     "collapsed": false,
     "input": [
      "import numpy as np\n",
      "iris_X = flower.data\n",
      "iris_y = flower.target #ground truth\n",
      "np.unique(iris_y) \n",
      "\n",
      "#class label 0,1,2 (setosa', 'versicolor', 'virginica')"
     ],
     "language": "python",
     "metadata": {},
     "outputs": [
      {
       "metadata": {},
       "output_type": "pyout",
       "prompt_number": 17,
       "text": [
        "array([0, 1, 2, 3, 4])"
       ]
      }
     ],
     "prompt_number": 17
    }
   ],
   "metadata": {}
  }
 ]
}