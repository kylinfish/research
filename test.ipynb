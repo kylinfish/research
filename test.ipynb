{
 "metadata": {
  "name": "",
  "signature": "sha256:eae0ad01e31cca481783f87367b718a11deaa4f8b8228243d8c3d34e0c32d208"
 },
 "nbformat": 3,
 "nbformat_minor": 0,
 "worksheets": [
  {
   "cells": [
    {
     "cell_type": "code",
     "collapsed": false,
     "input": [
      "import numpy as np\n",
      "from sklearn import cross_validation\n",
      "import dataset as dataset\n",
      "iris = dataset.read_data(\"/Users/viplab/Dropbox/flower_sift.txt\")\n",
      "print \"shape:\",iris.data.shape, iris.target.shape\n",
      "print \"Labeles: \",iris.target_names\n",
      "print iris.target\n",
      "\n",
      "\n",
      "X_train, X_test, y_train, y_test = cross_validation.train_test_split(\n",
      "    iris.data, iris.target, test_size=0.4, random_state=0)\n",
      "\n",
      "print \"training :\",X_train.shape, y_train.shape\n",
      "\n",
      "print \"testing :\",X_test.shape, y_test.shape\n"
     ],
     "language": "python",
     "metadata": {},
     "outputs": [
      {
       "output_type": "stream",
       "stream": "stdout",
       "text": [
        "shape: (400, 6) (400,)\n",
        "Labeles:  ['flower_1' 'flower_2' 'flower_3' 'flower_4' 'flower_5']\n",
        "[0 0 0 0 0 0 0 0 0 0 0 0 0 0 0 0 0 0 0 0 0 0 0 0 0 0 0 0 0 0 0 0 0 0 0 0 0\n",
        " 0 0 0 0 0 0 0 0 0 0 0 0 0 0 0 0 0 0 0 0 0 0 0 0 0 0 0 0 0 0 0 0 0 0 0 0 0\n",
        " 0 0 0 0 0 0 1 1 1 1 1 1 1 1 1 1 1 1 1 1 1 1 1 1 1 1 1 1 1 1 1 1 1 1 1 1 1\n",
        " 1 1 1 1 1 1 1 1 1 1 1 1 1 1 1 1 1 1 1 1 1 1 1 1 1 1 1 1 1 1 1 1 1 1 1 1 1\n",
        " 1 1 1 1 1 1 1 1 1 1 1 1 2 2 2 2 2 2 2 2 2 2 2 2 2 2 2 2 2 2 2 2 2 2 2 2 2\n",
        " 2 2 2 2 2 2 2 2 2 2 2 2 2 2 2 2 2 2 2 2 2 2 2 2 2 2 2 2 2 2 2 2 2 2 2 2 2\n",
        " 2 2 2 2 2 2 2 2 2 2 2 2 2 2 2 2 2 2 3 3 3 3 3 3 3 3 3 3 3 3 3 3 3 3 3 3 3\n",
        " 3 3 3 3 3 3 3 3 3 3 3 3 3 3 3 3 3 3 3 3 3 3 3 3 3 3 3 3 3 3 3 3 3 3 3 3 3\n",
        " 3 3 3 3 3 3 3 3 3 3 3 3 3 3 3 3 3 3 3 3 3 3 3 3 4 4 4 4 4 4 4 4 4 4 4 4 4\n",
        " 4 4 4 4 4 4 4 4 4 4 4 4 4 4 4 4 4 4 4 4 4 4 4 4 4 4 4 4 4 4 4 4 4 4 4 4 4\n",
        " 4 4 4 4 4 4 4 4 4 4 4 4 4 4 4 4 4 4 4 4 4 4 4 4 4 4 4 4 4 4]\n",
        "training : (240, 6) (240,)\n",
        "testing : (160, 6) (160,)\n"
       ]
      }
     ],
     "prompt_number": 25
    },
    {
     "cell_type": "code",
     "collapsed": false,
     "input": [
      "from sklearn.neighbors import KNeighborsClassifier\n",
      "\n",
      "knn = KNeighborsClassifier()\n",
      "#training  knn classifier\n",
      "knn.fit(X_train, y_train) \n",
      "\n",
      "#test => predict\n",
      "pred = knn.predict(X_test)\n",
      "grd = y_test\n",
      "postive = 0\n",
      "for i in xrange(len(pred)):\n",
      "    if pred[i] == grd[i]:\n",
      "        postive +=1 \n",
      "print pred\n",
      "print grd\n",
      "print postive\n",
      "print len(pred)\n",
      "print \"acc: \",float(float(postive)/len(pred))"
     ],
     "language": "python",
     "metadata": {},
     "outputs": [
      {
       "output_type": "stream",
       "stream": "stdout",
       "text": [
        "[0 3 4 1 1 1 0 1 1 0 4 0 0 0 3 2 1 1 4 1 0 3 3 4 3 1 1 1 1 0 0 2 1 3 1 1 0\n",
        " 2 1 3 0 1 0 2 4 3 0 0 0 1 2 0 0 0 3 4 4 0 2 0 1 4 0 4 0 3 0 0 2 2 4 3 2 1\n",
        " 2 0 4 0 2 0 0 0 2 1 3 4 0 2 1 1 2 2 3 0 1 1 3 1 1 1 0 4 1 0 0 1 0 2 3 1 1\n",
        " 2 3 0 3 1 2 4 2 3 1 0 1 0 1 0 0 0 2 2 1 1 2 1 1 3 2 0 1 3 1 1 0 1 3 0 4 1\n",
        " 0 0 3 0 2 1 4 1 0 0 0 0]\n",
        "[1 3 4 2 3 0 1 3 1 2 0 1 1 4 0 0 3 1 2 2 2 3 1 4 2 3 0 0 3 1 2 3 4 2 0 0 1\n",
        " 2 2 4 1 4 0 0 3 0 4 3 1 2 3 1 3 2 3 3 0 0 0 0 0 3 0 4 2 4 1 0 1 3 0 3 0 0\n",
        " 1 0 4 3 4 4 4 0 0 1 3 2 1 4 4 4 4 3 0 0 2 1 1 4 3 4 3 0 3 1 3 4 1 4 1 3 1\n",
        " 1 3 0 4 2 3 0 2 4 1 2 2 2 4 1 0 3 4 2 1 4 0 3 2 1 3 2 4 0 2 2 0 1 3 1 4 3\n",
        " 2 1 4 1 3 1 2 1 3 1 2 3]\n",
        "36\n",
        "160\n",
        "acc:  0.225\n"
       ]
      }
     ],
     "prompt_number": 26
    }
   ],
   "metadata": {}
  }
 ]
}